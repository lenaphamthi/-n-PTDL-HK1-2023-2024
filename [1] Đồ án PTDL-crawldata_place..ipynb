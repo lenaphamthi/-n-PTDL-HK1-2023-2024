{
  "cells": [
    {
      "cell_type": "markdown",
      "metadata": {
        "id": "view-in-github",
        "colab_type": "text"
      },
      "source": [
        "<a href=\"https://colab.research.google.com/github/lenaphamthi/PTDL-HK1_2023-2024/blob/main/%5B1%5D%20%C4%90%E1%BB%93%20%C3%A1n%20PTDL-crawldata_place..ipynb\" target=\"_parent\"><img src=\"https://colab.research.google.com/assets/colab-badge.svg\" alt=\"Open In Colab\"/></a>"
      ]
    },
    {
      "cell_type": "code",
      "execution_count": null,
      "id": "f3dfd9df",
      "metadata": {
        "id": "f3dfd9df"
      },
      "outputs": [],
      "source": [
        "from selenium import webdriver\n",
        "from time import sleep\n",
        "from bs4 import BeautifulSoup\n",
        "from selenium.webdriver.common.keys import Keys\n",
        "import csv\n",
        "import pandas as pd\n",
        "from datetime import date\n",
        "import random"
      ]
    },
    {
      "cell_type": "code",
      "execution_count": null,
      "id": "ee81e75e",
      "metadata": {
        "id": "ee81e75e",
        "outputId": "83c40564-6f24-4306-ade7-d479c58b5d93"
      },
      "outputs": [
        {
          "name": "stderr",
          "output_type": "stream",
          "text": [
            "<ipython-input-4-45177cfadef5>:4: DeprecationWarning: executable_path has been deprecated, please pass in a Service object\n",
            "  driver = webdriver.Chrome(PATH)\n"
          ]
        }
      ],
      "source": [
        "# open browser\n",
        "\n",
        "PATH = r\"chromedriver.exe\"\n",
        "driver = webdriver.Chrome(PATH)"
      ]
    },
    {
      "cell_type": "code",
      "execution_count": null,
      "id": "334d63dc",
      "metadata": {
        "id": "334d63dc",
        "outputId": "b8f04028-80bd-42a7-be17-9833d7e6bd85"
      },
      "outputs": [
        {
          "data": {
            "text/html": [
              "<div>\n",
              "<style scoped>\n",
              "    .dataframe tbody tr th:only-of-type {\n",
              "        vertical-align: middle;\n",
              "    }\n",
              "\n",
              "    .dataframe tbody tr th {\n",
              "        vertical-align: top;\n",
              "    }\n",
              "\n",
              "    .dataframe thead th {\n",
              "        text-align: right;\n",
              "    }\n",
              "</style>\n",
              "<table border=\"1\" class=\"dataframe\">\n",
              "  <thead>\n",
              "    <tr style=\"text-align: right;\">\n",
              "      <th></th>\n",
              "      <th>VN</th>\n",
              "      <th>EN</th>\n",
              "      <th>a</th>\n",
              "      <th>b;;;</th>\n",
              "    </tr>\n",
              "  </thead>\n",
              "  <tbody>\n",
              "    <tr>\n",
              "      <th>0</th>\n",
              "      <td>https://www.tripadvisor.com.vn/Attraction_Revi...</td>\n",
              "      <td>;https://www.tripadvisor.com/Attraction_Review...</td>\n",
              "      <td>NaN</td>\n",
              "      <td>NaN</td>\n",
              "    </tr>\n",
              "    <tr>\n",
              "      <th>1</th>\n",
              "      <td>https://www.tripadvisor.com.vn/Attraction_Revi...</td>\n",
              "      <td>;https://www.tripadvisor.com/Attraction_Review...</td>\n",
              "      <td>NaN</td>\n",
              "      <td>NaN</td>\n",
              "    </tr>\n",
              "    <tr>\n",
              "      <th>2</th>\n",
              "      <td>https://www.tripadvisor.com.vn/Attraction_Revi...</td>\n",
              "      <td>;https://www.tripadvisor.com/Attraction_Review...</td>\n",
              "      <td>NaN</td>\n",
              "      <td>NaN</td>\n",
              "    </tr>\n",
              "    <tr>\n",
              "      <th>3</th>\n",
              "      <td>https://www.tripadvisor.com.vn/Attraction_Revi...</td>\n",
              "      <td>;https://www.tripadvisor.com/Attraction_Review...</td>\n",
              "      <td>NaN</td>\n",
              "      <td>NaN</td>\n",
              "    </tr>\n",
              "    <tr>\n",
              "      <th>4</th>\n",
              "      <td>https://www.tripadvisor.com.vn/Attraction_Revi...</td>\n",
              "      <td>;https://www.tripadvisor.com/Attraction_Review...</td>\n",
              "      <td>NaN</td>\n",
              "      <td>NaN</td>\n",
              "    </tr>\n",
              "    <tr>\n",
              "      <th>...</th>\n",
              "      <td>...</td>\n",
              "      <td>...</td>\n",
              "      <td>...</td>\n",
              "      <td>...</td>\n",
              "    </tr>\n",
              "    <tr>\n",
              "      <th>1345</th>\n",
              "      <td>https://www.tripadvisor.com.vn/Attraction_Revi...</td>\n",
              "      <td>;https://www.tripadvisor.com/Attraction_Review...</td>\n",
              "      <td>NaN</td>\n",
              "      <td>NaN</td>\n",
              "    </tr>\n",
              "    <tr>\n",
              "      <th>1346</th>\n",
              "      <td>https://www.tripadvisor.com.vn/Attraction_Revi...</td>\n",
              "      <td>;https://www.tripadvisor.com/Attraction_Review...</td>\n",
              "      <td>NaN</td>\n",
              "      <td>NaN</td>\n",
              "    </tr>\n",
              "    <tr>\n",
              "      <th>1347</th>\n",
              "      <td>https://www.tripadvisor.com.vn/Attraction_Revi...</td>\n",
              "      <td>;https://www.tripadvisor.com/Attraction_Review...</td>\n",
              "      <td>NaN</td>\n",
              "      <td>NaN</td>\n",
              "    </tr>\n",
              "    <tr>\n",
              "      <th>1348</th>\n",
              "      <td>https://www.tripadvisor.com.vn/Attraction_Revi...</td>\n",
              "      <td>;https://www.tripadvisor.com/Attraction_Review...</td>\n",
              "      <td>NaN</td>\n",
              "      <td>NaN</td>\n",
              "    </tr>\n",
              "    <tr>\n",
              "      <th>1349</th>\n",
              "      <td>https://www.tripadvisor.com.vn/Attraction_Revi...</td>\n",
              "      <td>;https://www.tripadvisor.com/Attraction_Review...</td>\n",
              "      <td>NaN</td>\n",
              "      <td>NaN</td>\n",
              "    </tr>\n",
              "  </tbody>\n",
              "</table>\n",
              "<p>1350 rows × 4 columns</p>\n",
              "</div>"
            ],
            "text/plain": [
              "                                                     VN  \\\n",
              "0     https://www.tripadvisor.com.vn/Attraction_Revi...   \n",
              "1     https://www.tripadvisor.com.vn/Attraction_Revi...   \n",
              "2     https://www.tripadvisor.com.vn/Attraction_Revi...   \n",
              "3     https://www.tripadvisor.com.vn/Attraction_Revi...   \n",
              "4     https://www.tripadvisor.com.vn/Attraction_Revi...   \n",
              "...                                                 ...   \n",
              "1345  https://www.tripadvisor.com.vn/Attraction_Revi...   \n",
              "1346  https://www.tripadvisor.com.vn/Attraction_Revi...   \n",
              "1347  https://www.tripadvisor.com.vn/Attraction_Revi...   \n",
              "1348  https://www.tripadvisor.com.vn/Attraction_Revi...   \n",
              "1349  https://www.tripadvisor.com.vn/Attraction_Revi...   \n",
              "\n",
              "                                                     EN   a  b;;;  \n",
              "0     ;https://www.tripadvisor.com/Attraction_Review... NaN   NaN  \n",
              "1     ;https://www.tripadvisor.com/Attraction_Review... NaN   NaN  \n",
              "2     ;https://www.tripadvisor.com/Attraction_Review... NaN   NaN  \n",
              "3     ;https://www.tripadvisor.com/Attraction_Review... NaN   NaN  \n",
              "4     ;https://www.tripadvisor.com/Attraction_Review... NaN   NaN  \n",
              "...                                                 ...  ..   ...  \n",
              "1345  ;https://www.tripadvisor.com/Attraction_Review... NaN   NaN  \n",
              "1346  ;https://www.tripadvisor.com/Attraction_Review... NaN   NaN  \n",
              "1347  ;https://www.tripadvisor.com/Attraction_Review... NaN   NaN  \n",
              "1348  ;https://www.tripadvisor.com/Attraction_Review... NaN   NaN  \n",
              "1349  ;https://www.tripadvisor.com/Attraction_Review... NaN   NaN  \n",
              "\n",
              "[1350 rows x 4 columns]"
            ]
          },
          "execution_count": 5,
          "metadata": {},
          "output_type": "execute_result"
        }
      ],
      "source": [
        "dt = pd.read_csv('link_review.csv')\n",
        "dt"
      ]
    },
    {
      "cell_type": "code",
      "execution_count": null,
      "id": "81bcff3a",
      "metadata": {
        "id": "81bcff3a",
        "outputId": "d3c982b5-e1ba-48b1-adb3-ee45a82b2e61"
      },
      "outputs": [
        {
          "data": {
            "text/plain": [
              "1350"
            ]
          },
          "execution_count": 6,
          "metadata": {},
          "output_type": "execute_result"
        }
      ],
      "source": [
        "len(dt)"
      ]
    },
    {
      "cell_type": "code",
      "execution_count": null,
      "id": "1fa335c4",
      "metadata": {
        "id": "1fa335c4",
        "outputId": "7d3a13e6-9972-4575-a792-b6edb82fb4f1"
      },
      "outputs": [
        {
          "data": {
            "text/plain": [
              "1350"
            ]
          },
          "execution_count": 7,
          "metadata": {},
          "output_type": "execute_result"
        }
      ],
      "source": [
        "n = len(dt['VN'])\n",
        "url_list = []\n",
        "for i in range(n):\n",
        "    url_list.append(dt['VN'][i])\n",
        "url_list2 = url_list[0:1350]\n",
        "len(url_list2)\n"
      ]
    },
    {
      "cell_type": "code",
      "execution_count": null,
      "id": "a59ae9b1",
      "metadata": {
        "id": "a59ae9b1",
        "outputId": "e5a224b9-7ca5-4206-9e57-0cc6663068c3"
      },
      "outputs": [
        {
          "data": {
            "text/plain": [
              "'https://www.tripadvisor.com.vn/Attraction_Review-g298082-d20218380-Reviews-Alley_SPA-Hoi_An_Quang_Nam_Province.html;https://www.tripadvisor.com/Attraction_Review-g298082-d20218380-Reviews-Alley_SPA-Hoi_An_Quang_Nam_Province.html;https://www.tripadvisor.com.vn/Attraction_Review-g298082-d20218380-Reviews-Alley_SPA-Hoi_An_Quang_Nam_Province.html'"
            ]
          },
          "execution_count": 8,
          "metadata": {},
          "output_type": "execute_result"
        }
      ],
      "source": [
        "url_list2[1]"
      ]
    },
    {
      "cell_type": "code",
      "execution_count": null,
      "id": "e9e8cd82",
      "metadata": {
        "id": "e9e8cd82"
      },
      "outputs": [],
      "source": [
        "# List chứa các biến đơn trị\n",
        "P_name_list = []\n",
        "P_rank_list = []\n",
        "P_type_list = []\n",
        "P_status_list = []\n",
        "P_time_list = []\n",
        "P_images_list = []\n",
        "P_rate_list = []\n",
        "Total_reviewers_list = []\n",
        "R_5points_list = []\n",
        "R_4points_list = []\n",
        "R_3points_list = []\n",
        "R_2points_list = []\n",
        "R_1points_list = []\n",
        "\n",
        "#List chứa các biến đa trị\n",
        "R_name_list = []\n",
        "R_id_list = []\n",
        "R_address_list = []\n",
        "R_contribution_list = []\n",
        "R_rate_list = []\n",
        "R_idea_list = []\n",
        "R_content_list = []\n",
        "Time_who_list = []\n",
        "R_images_list = []\n",
        "R_time_list = []\n",
        "R_Place_list = []"
      ]
    },
    {
      "cell_type": "code",
      "execution_count": null,
      "id": "72093870",
      "metadata": {
        "id": "72093870"
      },
      "outputs": [],
      "source": [
        "#Hàm crawl data place\n",
        "def craw_place(url):\n",
        "    driver.get(url)\n",
        "    sleep(5)\n",
        "\n",
        "    page_source = BeautifulSoup(driver.page_source,  'html.parser')\n",
        "    try:\n",
        "        P_name = page_source.find('h1', class_ ='WlYyy cPsXC GeSzT').text\n",
        "        items = page_source.find_all('div', class_ = 'WlYyy diXIH dDKKM')\n",
        "        P_rank = items[3].text\n",
        "        P_type = items[4].text\n",
        "        items1 = page_source.find_all('span', class_ = 'WlYyy cacGK Wb')\n",
        "        P_status = items1[1].text\n",
        "        try:\n",
        "            P_time = page_source.find('span', class_ = 'cOXcJ').text\n",
        "        except:\n",
        "            P_status = \"Đang mở cửa\"\n",
        "            P_time = \"Không có thông tin\"\n",
        "\n",
        "\n",
        "        try:\n",
        "            P_images = page_source.find('span', class_ = 'WlYyy bTDWl').text\n",
        "            P_images = int(P_images.replace(\"Tất cả ảnh (\", \"\").replace(')', \"\").replace('.', \"\"))\n",
        "        except:\n",
        "            P_images = 0\n",
        "        try:\n",
        "            P_rate = float(page_source.find('div', class_ = 'WlYyy cPsXC fksET cMKSg').text)\n",
        "        except:\n",
        "            P_rate = 0\n",
        "        try:\n",
        "            Total_reviewers = int(page_source.find('span', class_ = 'WlYyy diXIH bGusc dDKKM').text.replace('.',\"\"))\n",
        "        except:\n",
        "            Total_reviewers = 0\n",
        "        if Total_reviewers == 0:\n",
        "            R_5points = 0\n",
        "            R_4points = 0\n",
        "            R_3points = 0\n",
        "            R_2points = 0\n",
        "            R_1points = 0\n",
        "        else:\n",
        "            scorees = page_source.find_all('div', class_ = 'bgQRx')\n",
        "            R_5points = int(scorees[0].text.replace('.',\"\"))\n",
        "            R_4points = int(scorees[1].text.replace('.',\"\"))\n",
        "            R_3points = int(scorees[2].text.replace('.',\"\"))\n",
        "            R_2points = int(scorees[3].text.replace('.',\"\"))\n",
        "            R_1points = int(scorees[4].text.replace('.',\"\"))\n",
        "\n",
        "        P_name_list.append(P_name)\n",
        "        P_rank_list.append(P_rank)\n",
        "        P_type_list.append(P_type)\n",
        "        P_status_list.append(P_status)\n",
        "        P_time_list.append(P_time)\n",
        "        P_images_list.append(P_images)\n",
        "        P_rate_list.append(P_rate)\n",
        "        Total_reviewers_list.append(Total_reviewers)\n",
        "        R_5points_list.append(R_5points)\n",
        "        R_4points_list.append(R_4points)\n",
        "        R_3points_list.append(R_3points)\n",
        "        R_2points_list.append(R_2points)\n",
        "        R_1points_list.append(R_1points)\n",
        "    except:\n",
        "        P_name = 'Khong'\n",
        "        try:\n",
        "            Total_reviewers = int(page_source.find('span', class_ = 'WlYyy diXIH bGusc dDKKM').text.replace('.',\"\"))\n",
        "        except:\n",
        "            Total_reviewers = 0\n",
        "    return P_name, Total_reviewers"
      ]
    },
    {
      "cell_type": "code",
      "execution_count": null,
      "id": "4a45329c",
      "metadata": {
        "id": "4a45329c",
        "outputId": "d6e16401-4f4c-42af-f2f1-9ae162e817f4"
      },
      "outputs": [
        {
          "name": "stdout",
          "output_type": "stream",
          "text": [
            "cào lần thứ 0\n",
            "cào lần thứ 1\n",
            "cào lần thứ 2\n",
            "cào lần thứ 3\n",
            "cào lần thứ 4\n",
            "cào lần thứ 5\n",
            "cào lần thứ 6\n",
            "cào lần thứ 7\n",
            "cào lần thứ 8\n",
            "cào lần thứ 9\n",
            "cào lần thứ 10\n",
            "cào lần thứ 11\n",
            "cào lần thứ 12\n",
            "cào lần thứ 13\n",
            "cào lần thứ 14\n",
            "cào lần thứ 15\n",
            "cào lần thứ 16\n",
            "cào lần thứ 17\n",
            "cào lần thứ 18\n",
            "cào lần thứ 19\n",
            "cào lần thứ 20\n",
            "cào lần thứ 21\n",
            "cào lần thứ 22\n",
            "cào lần thứ 23\n",
            "cào lần thứ 24\n",
            "cào lần thứ 25\n",
            "cào lần thứ 26\n",
            "cào lần thứ 27\n",
            "cào lần thứ 28\n",
            "cào lần thứ 29\n",
            "cào lần thứ 30\n",
            "cào lần thứ 31\n",
            "cào lần thứ 32\n",
            "cào lần thứ 33\n",
            "cào lần thứ 34\n",
            "cào lần thứ 35\n",
            "cào lần thứ 36\n",
            "cào lần thứ 37\n",
            "cào lần thứ 38\n",
            "cào lần thứ 39\n",
            "cào lần thứ 40\n",
            "cào lần thứ 41\n",
            "cào lần thứ 42\n",
            "cào lần thứ 43\n",
            "cào lần thứ 44\n",
            "cào lần thứ 45\n",
            "cào lần thứ 46\n",
            "cào lần thứ 47\n",
            "cào lần thứ 48\n",
            "cào lần thứ 49\n",
            "cào lần thứ 50\n",
            "cào lần thứ 51\n",
            "cào lần thứ 52\n",
            "cào lần thứ 53\n",
            "cào lần thứ 54\n",
            "cào lần thứ 55\n",
            "cào lần thứ 56\n",
            "cào lần thứ 57\n",
            "cào lần thứ 58\n",
            "cào lần thứ 59\n",
            "cào lần thứ 60\n",
            "cào lần thứ 61\n",
            "cào lần thứ 62\n",
            "cào lần thứ 63\n",
            "cào lần thứ 64\n",
            "cào lần thứ 65\n",
            "cào lần thứ 66\n",
            "cào lần thứ 67\n",
            "cào lần thứ 68\n",
            "cào lần thứ 69\n",
            "cào lần thứ 70\n",
            "cào lần thứ 71\n",
            "cào lần thứ 72\n",
            "cào lần thứ 73\n",
            "cào lần thứ 74\n",
            "cào lần thứ 75\n",
            "cào lần thứ 76\n",
            "cào lần thứ 77\n",
            "cào lần thứ 78\n",
            "cào lần thứ 79\n",
            "cào lần thứ 80\n",
            "cào lần thứ 81\n",
            "cào lần thứ 82\n"
          ]
        }
      ],
      "source": [
        "n = len(url_list2)\n",
        "\n",
        "j = 0\n",
        "i = 0\n",
        "with open(r'C:\\uyen\\place2.csv', 'w', encoding='UTF8',  newline = '') as file_output:\n",
        "    headers = [\"Place's name\", \"Place's rank\", \"Place's type\", \"Place's status\", \"Place's time\", \"Place's images\", \"Place's url\", \"Place's rate\", \"Place's total reviewer\", \"Place's 5 points\", \"Place's 4 points\", \"Place's 3 points\", \"Place's 2 points\", \"Place's 1 points\", \"retrived_date\"]\n",
        "    writer = csv.DictWriter(file_output, delimiter=',', lineterminator='\\n',fieldnames=headers)\n",
        "    writer.writeheader()\n",
        "    for i in range(n):\n",
        "        name, total = craw_place(url_list2[i])\n",
        "        today = date.today()\n",
        "        retrived_date = today.strftime(\"%m/%d/%Y\")\n",
        "\n",
        "        #if total > 0 and name != \"Khong\": #pass\n",
        "            #crawl_review(j)\n",
        "\n",
        "        if name != \"Khong\":\n",
        "            writer.writerow({headers[0]: P_name_list[j],headers[1]: P_rank_list[j], headers[2]: P_type_list[j], headers[3]: P_status_list[j], headers[4]: P_time_list[j] , headers[5]: P_images_list[j], headers[6]: url_list2[i], headers[7]: P_rate_list[j], headers[8]: Total_reviewers_list[j], headers[9]: R_5points_list[j], headers[10]: R_4points_list[j], headers[11]: R_3points_list[j], headers[12]: R_2points_list[j], headers[13]: R_1points_list[j], headers[14]: retrived_date })\n",
        "            i += 1\n",
        "            j +=1\n",
        "        print('cào lần thứ', i)"
      ]
    }
  ],
  "metadata": {
    "kernelspec": {
      "display_name": "Python 3",
      "language": "python",
      "name": "python3"
    },
    "language_info": {
      "codemirror_mode": {
        "name": "ipython",
        "version": 3
      },
      "file_extension": ".py",
      "mimetype": "text/x-python",
      "name": "python",
      "nbconvert_exporter": "python",
      "pygments_lexer": "ipython3",
      "version": "3.8.8"
    },
    "colab": {
      "provenance": [],
      "include_colab_link": true
    }
  },
  "nbformat": 4,
  "nbformat_minor": 5
}